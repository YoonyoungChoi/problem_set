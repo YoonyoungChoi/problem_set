{
  "nbformat": 4,
  "nbformat_minor": 0,
  "metadata": {
    "colab": {
      "name": "STA503_Problem Set4.ipynb",
      "provenance": [],
      "collapsed_sections": [],
      "authorship_tag": "ABX9TyMTy0vGeKCMU1PipueBQE6C",
      "include_colab_link": true
    },
    "kernelspec": {
      "name": "python3",
      "display_name": "Python 3"
    },
    "language_info": {
      "name": "python"
    }
  },
  "cells": [
    {
      "cell_type": "markdown",
      "metadata": {
        "id": "view-in-github",
        "colab_type": "text"
      },
      "source": [
        "<a href=\"https://colab.research.google.com/github/YoonyoungChoi/problem_set/blob/main/STA503_Problem_Set4.ipynb\" target=\"_parent\"><img src=\"https://colab.research.google.com/assets/colab-badge.svg\" alt=\"Open In Colab\"/></a>"
      ]
    },
    {
      "cell_type": "code",
      "execution_count": 22,
      "metadata": {
        "id": "V8338qi2jYWz",
        "colab": {
          "base_uri": "https://localhost:8080/"
        },
        "outputId": "30bdcf4d-2529-4df7-c34e-4d1d7d8e8b13"
      },
      "outputs": [
        {
          "output_type": "stream",
          "name": "stdout",
          "text": [
            "Looking in indexes: https://pypi.org/simple, https://us-python.pkg.dev/colab-wheels/public/simple/\n",
            "Requirement already satisfied: arch in /usr/local/lib/python3.7/dist-packages (5.2.0)\n",
            "Requirement already satisfied: pandas>=1.0 in /usr/local/lib/python3.7/dist-packages (from arch) (1.3.5)\n",
            "Requirement already satisfied: property-cached>=1.6.4 in /usr/local/lib/python3.7/dist-packages (from arch) (1.6.4)\n",
            "Requirement already satisfied: scipy>=1.3 in /usr/local/lib/python3.7/dist-packages (from arch) (1.4.1)\n",
            "Requirement already satisfied: numpy>=1.17 in /usr/local/lib/python3.7/dist-packages (from arch) (1.21.6)\n",
            "Requirement already satisfied: statsmodels>=0.11 in /usr/local/lib/python3.7/dist-packages (from arch) (0.13.2)\n",
            "Requirement already satisfied: pytz>=2017.3 in /usr/local/lib/python3.7/dist-packages (from pandas>=1.0->arch) (2022.1)\n",
            "Requirement already satisfied: python-dateutil>=2.7.3 in /usr/local/lib/python3.7/dist-packages (from pandas>=1.0->arch) (2.8.2)\n",
            "Requirement already satisfied: six>=1.5 in /usr/local/lib/python3.7/dist-packages (from python-dateutil>=2.7.3->pandas>=1.0->arch) (1.15.0)\n",
            "Requirement already satisfied: patsy>=0.5.2 in /usr/local/lib/python3.7/dist-packages (from statsmodels>=0.11->arch) (0.5.2)\n",
            "Requirement already satisfied: packaging>=21.3 in /usr/local/lib/python3.7/dist-packages (from statsmodels>=0.11->arch) (21.3)\n",
            "Requirement already satisfied: pyparsing!=3.0.5,>=2.0.2 in /usr/local/lib/python3.7/dist-packages (from packaging>=21.3->statsmodels>=0.11->arch) (3.0.9)\n"
          ]
        }
      ],
      "source": [
        "!pip install arch\n",
        "import numpy as np\n",
        "import pandas as pd\n",
        "import matplotlib.pyplot as plt\n",
        "import statsmodels.graphics.tsaplots as sgt\n",
        "import arch\n",
        "from statsmodels.tsa.stattools import adfuller\n",
        "from statsmodels.tsa.arima_model import ARIMA"
      ]
    },
    {
      "cell_type": "code",
      "source": [
        "df1 = pd.read_csv('https://github.com/YoonyoungChoi/problem_set/blob/main/RGDPA.txt', sep='\\t', header=None)"
      ],
      "metadata": {
        "id": "tJjpY0L7XaFu"
      },
      "execution_count": 23,
      "outputs": []
    },
    {
      "cell_type": "code",
      "source": [
        "##Q1\n",
        "#정규분포 난수 생성\n",
        "error = np.random.randn(1000)\n",
        "\n",
        "#초깃값은 0으로 설정\n",
        "#y_1=0.5+0.5*error_1\n",
        "#y_2=0.5+0.5*error_1+0.3*error_2\n",
        "\n",
        "#y_3부터 반복문 수행\n",
        "y= [0.5+0.5*error[0], 0.5+0.5*error[1]+0.3*error[0]]\n",
        "for i in range(len(error)-2):\n",
        "  y.append(0.5*error[i+2]+error[i+1]+error[i])"
      ],
      "metadata": {
        "id": "5LaboWAIm8Ne"
      },
      "execution_count": 24,
      "outputs": []
    },
    {
      "cell_type": "code",
      "source": [
        "#y_t에 대해 탐구\n",
        "y_mean=np.mean(y)\n",
        "print(y_mean)\n",
        "\n",
        "#표본표준편차\n",
        "def sample_std(x):\n",
        "  return np.sqrt((np.sum((x-np.mean(x))**2))/(len(x)-1))\n",
        "print(sample_std(y))"
      ],
      "metadata": {
        "colab": {
          "base_uri": "https://localhost:8080/"
        },
        "id": "Eu1jdG9BnwH6",
        "outputId": "937057da-a577-4900-dfe7-399646848959"
      },
      "execution_count": 25,
      "outputs": [
        {
          "output_type": "stream",
          "name": "stdout",
          "text": [
            "0.10753435250928621\n",
            "1.4923983748440424\n"
          ]
        }
      ]
    },
    {
      "cell_type": "code",
      "source": [
        "#자기공분산, 자기상관계수 함수 정의\n",
        "def autocovariance(y, N, order, y_mean):\n",
        "  autocov = 0\n",
        "  for i in np.arange(0, N-order):\n",
        "    autocov += ((y[i+order])-y_mean)*(y[i]-y_mean)\n",
        "  return (1/(N-1))*autocov\n",
        "\n",
        "def autocorrelation(y, N, order, y_mean):\n",
        "  return autocovariance(y, N, order, y_mean)/autocovariance(y, N, 0, y_mean)"
      ],
      "metadata": {
        "id": "PTFHnTP7oJHf"
      },
      "execution_count": 26,
      "outputs": []
    },
    {
      "cell_type": "code",
      "source": [
        "#초기값 설정\n",
        "autocov_result=[]\n",
        "autocor_result=[]\n",
        "\n",
        "for i in range(100):\n",
        "  autocov_result.append(autocovariance(y, len(y), i, y_mean))\n",
        "  autocor_result.append(autocorrelation(y, len(y), i, y_mean))"
      ],
      "metadata": {
        "id": "pZmXDE8IpVkv"
      },
      "execution_count": 27,
      "outputs": []
    },
    {
      "cell_type": "code",
      "source": [
        "#가설검정: sequence y_t는 이동평균(MA) 시계열이 아닌 White Noise 다 vs. 귀무가설이 참이 아니다\n",
        "#H_0 하에서는 모든 theta = 0 > 자기상관계수_k는 order k에 상관 없이 평균 0, 분산 1/N인 정규분포를 따름\n",
        "#표준오차 (Standard Error): 1/np.sqrt(N)\n",
        "\n",
        "plt.plot(range(100), autocor_result, label = 'autocorrelation')\n",
        "plt.xlabel('order')\n",
        "plt.ylabel('value')\n",
        "plt.legend()"
      ],
      "metadata": {
        "id": "TI5jTxsxqbfJ",
        "colab": {
          "base_uri": "https://localhost:8080/",
          "height": 297
        },
        "outputId": "8fcafb69-595d-48d9-b526-d3cbed90c838"
      },
      "execution_count": 28,
      "outputs": [
        {
          "output_type": "execute_result",
          "data": {
            "text/plain": [
              "<matplotlib.legend.Legend at 0x7fa5d9f8b890>"
            ]
          },
          "metadata": {},
          "execution_count": 28
        },
        {
          "output_type": "display_data",
          "data": {
            "text/plain": [
              "<Figure size 432x288 with 1 Axes>"
            ],
            "image/png": "[encoded data removed]"
          },
          "metadata": {
            "needs_background": "light"
          }
        }
      ]
    }
  ]
}