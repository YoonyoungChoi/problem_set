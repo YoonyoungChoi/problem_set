{
  "nbformat": 4,
  "nbformat_minor": 0,
  "metadata": {
    "colab": {
      "name": "COM501_Homework2.ipynb",
      "provenance": [],
      "collapsed_sections": [],
      "authorship_tag": "ABX9TyMvVDNQariysmILYFv6gP1W",
      "include_colab_link": true
    },
    "kernelspec": {
      "name": "python3",
      "display_name": "Python 3"
    },
    "language_info": {
      "name": "python"
    }
  },
  "cells": [
    {
      "cell_type": "markdown",
      "metadata": {
        "id": "view-in-github",
        "colab_type": "text"
      },
      "source": [
        "<a href=\"https://colab.research.google.com/github/YoonyoungChoi/problem_set/blob/main/COM501_Homework2.ipynb\" target=\"_parent\"><img src=\"https://colab.research.google.com/assets/colab-badge.svg\" alt=\"Open In Colab\"/></a>"
      ]
    },
    {
      "cell_type": "code",
      "execution_count": 17,
      "metadata": {
        "id": "l6Wfmh_ZOxYS"
      },
      "outputs": [],
      "source": [
        "# Github link: https://github.com/YoonyoungChoi/problem_set/blob/main/COM501_Problem_Set2.ipynb\n",
        "# Import packages \n",
        "\n",
        "import numpy as np\n",
        "import matplotlib.pyplot as plt\n",
        "import time\n",
        "from itertools import repeat, product\n",
        "%matplotlib inline"
      ]
    },
    {
      "cell_type": "markdown",
      "source": [
        "**Problem 1** The Simpson quadrature rule approximates a definite intergral as follows:\n",
        "$I= \\int_a^bf(x)dx \\approx \\frac{b-a}{6}[f(a)+4f(\\frac{a+b}{2}+f(b))]=\\hat{I}^S$\\\n",
        "1) Suppose the function $f$ satisfies all necessaries mathematical conditions, and the inverval $[a,b]$ is split up into $N$ subintervals with width $\\delta =\\frac{b-a}{N}$. The integral $I$ is the approximated as the sum of the Simpson approximations in each subinterval. Show that the error of the new approximation has order $O(N^{-4}$)\\\n",
        "2) You are given to implement a set of computer code that computes the Simpson rule for matching ReLU(6), based on $N$ subintervals where $N \\in [0,100]$\\\n",
        "3) Roughly speaking, what is the rate of convergence of the absolute error of your Simpsons quadrature approximation? In other words, give a rough estimate of the value of $r$ such that $\\left| \\hat{I}^S_{N}-I \\right| = O(N^{-r})$\\\n",
        "where $\\hat{I}^S$ is the Simpson quadrature approximation based on $N$ subintervals"
      ],
      "metadata": {
        "id": "Sh20-mJkVTE_"
      }
    },
    {
      "cell_type": "markdown",
      "source": [
        "**Answer**\\\n",
        "1)Let $\\mid f^{(4)}(x) \\mid for\\ a \\le x \\le b$,\\\n",
        "$\\mid E_s \\mid \\le \\frac{K(b-a)^5}{180n^4}$, $n=2$\\\n",
        "$\\mid I- \\hat{I}^S \\mid \\le \\frac{1}{90} \\left(\\frac{b-a}{2}\\right)^5$\\\n",
        "$\\mid I- \\hat{I}^S \\mid \\le \\sum \\limits_{n=1} ^ N\\left| \\int_{a(n-1)\\delta}^{a+n\\delta} f(x)dx-\\hat{I}_n^S \\right| \\le \\sum \\limits_{n=1}^N \\frac{1}{90} \\left(\\frac{\\delta}{2} \\right)^5 K=\\frac{1}{90} \\frac{\\delta}{2}^4 (b-a)K=O(N^{-4})$\\\n",
        "Left, Right: $O(N^{-1})$\\\n",
        "Midpoint: $O(N^{-2})$\\\n",
        "Trapezoid: $O(N^{-2})$\\\n",
        "Simpson: $O(N^{-4})$\n"
      ],
      "metadata": {
        "id": "GRxjoSem6Z9h"
      }
    },
    {
      "cell_type": "markdown",
      "source": [
        "2) You are given to implement a set of computer code that computes the Simpson rule for matching ReLU(6), based on $N$ subintervals where $N \\in [0,100]$"
      ],
      "metadata": {
        "id": "Un8DJCkxBluA"
      }
    },
    {
      "cell_type": "code",
      "source": [
        "#Basic ReLU\n",
        "x=np.linspace(-10, 15, 1000)\n",
        "y=np.maximum(0,x)\n",
        "\n",
        "plt.figure(figsize=(10,5))\n",
        "plt.plot(x,y)\n",
        "plt.legend(['ReLU'])\n",
        "plt.show\n",
        "\n",
        "#ReLU(6)\n",
        "def ReLU6(x):\n",
        "  y=np.maximum(0,x)\n",
        "  y=np.minimum(y,6)\n",
        "  return(y)"
      ],
      "metadata": {
        "id": "niiA9FPjQCdP",
        "colab": {
          "base_uri": "https://localhost:8080/",
          "height": 320
        },
        "outputId": "b9e02cd8-e39f-4c00-b433-1e231bcfafc5"
      },
      "execution_count": 6,
      "outputs": [
        {
          "output_type": "display_data",
          "data": {
            "text/plain": [
              "<Figure size 720x360 with 1 Axes>"
            ],
            "image/png": "[encoded data removed]"
          },
          "metadata": {
            "needs_background": "light"
          }
        }
      ]
    },
    {
      "cell_type": "code",
      "source": [
        "#ReLU(6)\n",
        "x=np.linspace(-10, 15, 1000)\n",
        "y=np.minimum(np.maximum(0,x),6)\n",
        "plt.figure(figsize=(10,5))\n",
        "plt.plot(x,y)\n",
        "plt.legend(['ReLU(6)'])\n",
        "plt.show()"
      ],
      "metadata": {
        "id": "G9ZWc8gNVR4c",
        "colab": {
          "base_uri": "https://localhost:8080/",
          "height": 320
        },
        "outputId": "d3a4cad1-0d39-4cd4-92f7-388155088791"
      },
      "execution_count": 7,
      "outputs": [
        {
          "output_type": "display_data",
          "data": {
            "text/plain": [
              "<Figure size 720x360 with 1 Axes>"
            ],
            "image/png": "[encoded data removed]"
          },
          "metadata": {
            "needs_background": "light"
          }
        }
      ]
    },
    {
      "cell_type": "markdown",
      "source": [
        "3) Roughly speaking, what is the rate of convergence of the absolute error of your Simpsons quadrature approximation? In other words, give a rough estimate of the value of $r$ such that $\\left| \\hat{I}^S_{N}-I \\right| = O(N^{-r})$"
      ],
      "metadata": {
        "id": "T0r-kZ7QCbAz"
      }
    },
    {
      "cell_type": "code",
      "source": [
        "# Exact area = (6*6)/2 + 4*6= 42\n",
        "def simpson(f,a,b,n):\n",
        "  x=np.linspace(start=a, stop=b, num=2*n+1)\n",
        "  delta=(b-a)/n\n",
        "  func=np.vectorize(f)(x)\n",
        "\n",
        "  s=delta*np.sum(func[0:-1:2]+4*func[1::2]+func[2::2])/6\n",
        "  return np.sum(s)"
      ],
      "metadata": {
        "id": "OFEsVUxGVSKk"
      },
      "execution_count": 8,
      "outputs": []
    },
    {
      "cell_type": "code",
      "source": [
        "a=0\n",
        "b=10\n",
        "n=100\n",
        "result=[simpson(ReLU6, a, b, i) for i in range(1,1+n)]"
      ],
      "metadata": {
        "id": "g3Cgh4IXVSYD"
      },
      "execution_count": 9,
      "outputs": []
    },
    {
      "cell_type": "code",
      "source": [
        "plt.plot(range(1,101),result)"
      ],
      "metadata": {
        "colab": {
          "base_uri": "https://localhost:8080/",
          "height": 283
        },
        "id": "vbp7WWc7JuiR",
        "outputId": "e1828338-a010-47ab-fc62-266d7df29524"
      },
      "execution_count": 10,
      "outputs": [
        {
          "output_type": "execute_result",
          "data": {
            "text/plain": [
              "[<matplotlib.lines.Line2D at 0x7ff0eb7f3910>]"
            ]
          },
          "metadata": {},
          "execution_count": 10
        },
        {
          "output_type": "display_data",
          "data": {
            "text/plain": [
              "<Figure size 432x288 with 1 Axes>"
            ],
            "image/png": "[encoded data removed]"
          },
          "metadata": {
            "needs_background": "light"
          }
        }
      ]
    },
    {
      "cell_type": "code",
      "source": [
        "error=42-np.array(result)"
      ],
      "metadata": {
        "id": "lD_P1jflGA_m"
      },
      "execution_count": 12,
      "outputs": []
    },
    {
      "cell_type": "code",
      "source": [
        "print(error)"
      ],
      "metadata": {
        "colab": {
          "base_uri": "https://localhost:8080/"
        },
        "id": "tfQF6kM6OnHv",
        "outputId": "79ff2154-da8e-4c54-e2ee-48dc8d57bc3a"
      },
      "execution_count": 13,
      "outputs": [
        {
          "output_type": "stream",
          "name": "stdout",
          "text": [
            "[-1.33333333e+00  3.33333333e-01  1.48148148e-01 -8.33333333e-02\n",
            "  0.00000000e+00 -3.70370370e-02  2.72108844e-02  2.08333333e-02\n",
            " -1.64609053e-02  0.00000000e+00 -1.10192837e-02  9.25925926e-03\n",
            "  7.88954635e-03 -6.80272109e-03  0.00000000e+00 -5.20833333e-03\n",
            "  4.61361015e-03  4.11522634e-03 -3.69344414e-03  0.00000000e+00\n",
            " -3.02343159e-03  2.75482094e-03  2.52047889e-03 -2.31481481e-03\n",
            "  0.00000000e+00 -1.97238659e-03  1.82898948e-03  1.70068027e-03\n",
            " -1.58541419e-03  0.00000000e+00 -1.38744364e-03  1.30208333e-03\n",
            "  1.22436486e-03 -1.15340254e-03  0.00000000e+00 -1.02880658e-03\n",
            "  9.73946920e-04  9.23361034e-04 -8.76616261e-04  0.00000000e+00\n",
            " -7.93178663e-04  7.55857899e-04  7.21110510e-04 -6.88705234e-04\n",
            "  0.00000000e+00 -6.30119723e-04  6.03591369e-04  5.78703704e-04\n",
            " -5.55324170e-04  0.00000000e+00 -5.12623350e-04  4.93096647e-04\n",
            "  4.74664768e-04 -4.57247371e-04  0.00000000e+00 -4.25170068e-04\n",
            "  4.10382682e-04  3.96353547e-04 -3.83031696e-04  0.00000000e+00\n",
            " -3.58326615e-04  3.46860909e-04  3.35936844e-04 -3.25520833e-04\n",
            "  0.00000000e+00 -3.06091215e-04  2.97022351e-04  2.88350634e-04\n",
            " -2.80053210e-04  0.00000000e+00 -2.64497785e-04  2.57201646e-04\n",
            "  2.50203290e-04 -2.43486730e-04  0.00000000e+00 -2.30840259e-04\n",
            "  2.24883342e-04  2.19154065e-04 -2.13640976e-04  0.00000000e+00\n",
            " -2.03221054e-04  1.98294666e-04  1.93545265e-04 -1.88964475e-04\n",
            "  0.00000000e+00 -1.80277628e-04  1.76157132e-04  1.72176309e-04\n",
            " -1.68328915e-04  0.00000000e+00 -1.61011150e-04  1.57529931e-04\n",
            "  1.54160404e-04 -1.50897842e-04  0.00000000e+00 -1.44675926e-04\n",
            "  1.41708293e-04  1.38831043e-04 -1.36040540e-04  0.00000000e+00]\n"
          ]
        }
      ]
    },
    {
      "cell_type": "code",
      "source": [
        "# Error showed as 10^{-4}, same as 100^{-2} so r=2\n",
        "# ReLU(6) is trapezoid form, doesn't need curve fitting\n",
        "# Otherwise, for the measurement of triangle or quadrangel -> N^{-1} would be better"
      ],
      "metadata": {
        "id": "0pVfluNRVSgl"
      },
      "execution_count": null,
      "outputs": []
    },
    {
      "cell_type": "code",
      "source": [
        "# Quadrature measurement is differential and integral calculus\n",
        "# Need to differentiate singular point\n",
        "# The reason why we use Monte Carlo simulation"
      ],
      "metadata": {
        "id": "_txpuCJBPMIH"
      },
      "execution_count": null,
      "outputs": []
    },
    {
      "cell_type": "markdown",
      "source": [
        "**Problem 2** Consider the following $M-$dimensional integral $I^M=\\int_a^b \\dots \\int_a^b f(x_1, \\dots, x_M)dx_1 \\dots dx_M$\\\n",
        "We can compute an approximation of $I^M$ using the left-point quadrature rule for each inner intergral. In this sense, suppose that we divide up the integral $[a,b]$ into $N$ subintervals, and set $\\Delta = \\frac{b-a}{N}$. Define the $N-$dimensional left-point quadrature approximation as $\\hat{I^N_{M}}=\\sum\\limits_{n_1=0}^{N-1} \\ldots \\sum\\limits_{n_1=0}^{N-1}f(a+n_1\\Delta, \\ldots, a+n_M\\Delta)\\Delta^M$\\\n",
        "In this question, you can refer Fubini's theorem only as a reference point. You do not need the theorem for proof.\\\n",
        "1) Demonstrate that the absolute error of the $M-$dimensional left-point quadrature rule is of order $O(M \\times N^{-1})$\\\n",
        "2) Discuss the number of basic operations required to compute $I_N^M$ is of order $O(N^M)$. For simplicity, assume that one evaluation of $f(a+n_1\\Delta, \\ldots, a+n_M\\Delta)\\Delta^M$ is one basic operation. You do not have to provide formal proof.\\\n",
        "3) We can define the computational efficiency of the $M-$dimensional left-point quadrature as the inverse of the product between its error and the computational budget it requires. Plot the order of the computational efficiency of the $M-$dimensional left-point quadrature approximation as a function of $M$ for $M \\in [1,10]$ and $N=100$\\\n",
        "4) Do you believe that the $M-$dimensional left-point quadrature rule is the most computationally efficient approximation of the $M-$dimensional integral $I^M$? Argue why or why not."
      ],
      "metadata": {
        "id": "9iV25Okgfhks"
      }
    },
    {
      "cell_type": "markdown",
      "source": [
        "Computational effort\\\n",
        "$\\hat{I_N}=\\sum \\limits_{n=0}^{N-1} \\Delta f(a+n\\Delta)$\n",
        "1. Compute $a+n\\Delta$ for $n=0, \\cdots, N-1$\n",
        "2. Evaluate $f(a+n\\Delta)$ for $n=0, \\cdots, N-1$\n",
        "3. Multiply $\\Delta$ with $f(a+n\\Delta)$ over $n=0, \\cdots, N-1$\n",
        "4. Sum up $f(a+n\\Delta)$ over $n=0, \\cdots, N-1$\\\n",
        "Computational Effort(Left-point):\\\n",
        "$CE(\\hat{I_N})=O(N)$\\\n",
        "MSE:\\\n",
        "$MSE(\\hat{I_N})=VAR(\\hat{I_N})+Bias^2(\\hat{I_N})=0+(\\hat{I_N})^2=O(N^{-2})$\n",
        "Computational efficiency:\\\n",
        "$\\varepsilon(\\hat{I_N})=\\frac{1}{CE(\\hat{I_N})\\cdot MSE(\\hat{I_N})}=\\frac{1}{O(N) \\cdot O(N^{-2})}=O(N)$\\\n",
        "Multidimensional quadrature\\\n",
        "$\\varepsilon(\\hat{I_N}^M)=\\frac{1}{CE(\\hat{I_N}^M)\\cdot MSE(\\hat{I_N}^M)}=\\frac{1}{O(N^M) \\cdot O(M^2 N^{-2})}=O(M^{-2}N^{2-M})$\n",
        "\n"
      ],
      "metadata": {
        "id": "d_DaRE5H1EqZ"
      }
    },
    {
      "cell_type": "markdown",
      "source": [
        "1) Demonstrate that the absolute error of the $M-$dimensional left-point quadrature rule is of order $O(M \\times N^{-1})$\n"
      ],
      "metadata": {
        "id": "evS_SEf0QvfO"
      }
    },
    {
      "cell_type": "code",
      "source": [
        "# Fubini's Therem: Integral of M-dimentional data, Mth integration of one-variable intregral\n",
        "# MSE of each dimention: N^{-1} when using left-point quadrature\n",
        "# For Mth dimension: M* N^{-1}\n",
        "# MSE increased for multiple of M"
      ],
      "metadata": {
        "id": "caF7Y_cXPqRx"
      },
      "execution_count": null,
      "outputs": []
    },
    {
      "cell_type": "markdown",
      "source": [
        "2) Discuss the number of basic operations required to compute $I_N^M$ is of order $O(N^M)$. For simplicity, assume that one evaluation of $f(a+n_1\\Delta, \\ldots, a+n_M\\Delta)\\Delta^M$ is one basic operation. You do not have to provide formal proof.\n"
      ],
      "metadata": {
        "id": "PWvwcTHwQ0jN"
      }
    },
    {
      "cell_type": "code",
      "source": [
        "# Multi integration of M units -> for 1 unit of integration, N units of datapoints\n",
        "# Complexity of calculus: N^{M}"
      ],
      "metadata": {
        "id": "u1n5LPOgPqbP"
      },
      "execution_count": null,
      "outputs": []
    },
    {
      "cell_type": "markdown",
      "source": [
        "3) We can define the computational efficiency of the $M-$dimensional left-point quadrature as the inverse of the product between its error and the computational budget it requires. Plot the order of the computational efficiency of the $M-$dimensional left-point quadrature approximation as a function of $M$ for $M \\in [1,10]$ and $N=100$"
      ],
      "metadata": {
        "id": "Mq2YV9QZQ44U"
      }
    },
    {
      "cell_type": "code",
      "source": [
        "def multi_integration(a,b,m,n=100):\n",
        "  delta = (b-a)/n\n",
        "  pair = list(range(n))\n",
        "  pair = list(repeat(pair,m))\n",
        "  pair = list(product(*pair))\n",
        "\n",
        "  result=0\n",
        "  for i in pair:\n",
        "    x = list(np.zeros(m))\n",
        "    for k in range(len(i)):\n",
        "      x[k] = a + delta * i[k]\n",
        "    result += np.sum(x) * (delta ** m)\n",
        "  return result"
      ],
      "metadata": {
        "id": "jYxdbbaMQrlp"
      },
      "execution_count": 14,
      "outputs": []
    },
    {
      "cell_type": "code",
      "source": [
        "# 3 dimension calculation\n",
        "\n",
        "error = list()\n",
        "ce = list()\n",
        "\n",
        "true_value = [1.5,9,40.5,162,1215/2,2187,15309/2,26244,177147/2,295245]\n",
        "\n",
        "for i in range(1,4):\n",
        "  abs_error=0\n",
        "  start = time.time()\n",
        "  approx = multi_integration(-1,2,i)\n",
        "  last = time.time()\n",
        "  print(\"time:\", last-start)\n",
        "  error = true_value[i-1] - approx\n",
        "  ce.append(1/((error**2)*(last-start)))\n",
        "\n",
        "m = list(range(1,4))\n",
        "plt.plot(m, ce, marker = \"o\")\n",
        "plt.xlabel(\"dimension\")\n",
        "plt.ylabel(\"computational efficiency\")\n",
        "plt.title(\"computational efficiency vs dimension\")\n",
        "plt.show()"
      ],
      "metadata": {
        "colab": {
          "base_uri": "https://localhost:8080/",
          "height": 350
        },
        "id": "wSY_VK4aX3q4",
        "outputId": "8f976ca4-4eb8-4075-b79e-0783c7b65a0f"
      },
      "execution_count": 20,
      "outputs": [
        {
          "output_type": "stream",
          "name": "stdout",
          "text": [
            "time: 0.0019173622131347656\n",
            "time: 0.18193626403808594\n",
            "time: 11.94697642326355\n"
          ]
        },
        {
          "output_type": "display_data",
          "data": {
            "text/plain": [
              "<Figure size 432x288 with 1 Axes>"
            ],
            "image/png": "[encoded data removed]"
          },
          "metadata": {
            "needs_background": "light"
          }
        }
      ]
    },
    {
      "cell_type": "markdown",
      "source": [
        "4) Do you believe that the $M-$dimensional left-point quadrature rule is the most computationally efficient approximation of the $M-$dimensional integral $I^M$? Argue why or why not."
      ],
      "metadata": {
        "id": "QA8lwOgyZHlL"
      }
    },
    {
      "cell_type": "code",
      "source": [
        "# Error increased in M multiple times - affordable\n",
        "# Calcultation time incereasd in exponentially\n",
        "# Curse of Dimensionality\n",
        "# This is the reason why we use Monte-Carlo simulation"
      ],
      "metadata": {
        "id": "pwrNTUJtZNqw"
      },
      "execution_count": null,
      "outputs": []
    }
  ]
}