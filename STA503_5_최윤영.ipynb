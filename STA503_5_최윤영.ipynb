{
  "nbformat": 4,
  "nbformat_minor": 0,
  "metadata": {
    "colab": {
      "name": "STA503_Problem Set5.ipynb의 사본",
      "provenance": [],
      "collapsed_sections": [],
      "authorship_tag": "ABX9TyO80bQpaIOlwnomUzWA/vPu",
      "include_colab_link": true
    },
    "kernelspec": {
      "name": "python3",
      "display_name": "Python 3"
    },
    "language_info": {
      "name": "python"
    }
  },
  "cells": [
    {
      "cell_type": "markdown",
      "metadata": {
        "id": "view-in-github",
        "colab_type": "text"
      },
      "source": [
        "<a href=\"https://colab.research.google.com/github/YoonyoungChoi/problem_set/blob/main/STA503_5_%EC%B5%9C%EC%9C%A4%EC%98%81.ipynb\" target=\"_parent\"><img src=\"https://colab.research.google.com/assets/colab-badge.svg\" alt=\"Open In Colab\"/></a>"
      ]
    },
    {
      "cell_type": "code",
      "execution_count": 2,
      "metadata": {
        "id": "l6Wfmh_ZOxYS",
        "colab": {
          "base_uri": "https://localhost:8080/"
        },
        "outputId": "9f3ae570-708c-49de-afe5-6954f2963a70"
      },
      "outputs": [
        {
          "output_type": "stream",
          "name": "stdout",
          "text": [
            "Looking in indexes: https://pypi.org/simple, https://us-python.pkg.dev/colab-wheels/public/simple/\n",
            "Collecting arch\n",
            "  Downloading arch-5.3.1-cp37-cp37m-manylinux_2_17_x86_64.manylinux2014_x86_64.whl (903 kB)\n",
            "\u001b[K     |████████████████████████████████| 903 kB 5.0 MB/s \n",
            "\u001b[?25hRequirement already satisfied: scipy>=1.3 in /usr/local/lib/python3.7/dist-packages (from arch) (1.4.1)\n",
            "Collecting property-cached>=1.6.4\n",
            "  Downloading property_cached-1.6.4-py2.py3-none-any.whl (7.8 kB)\n",
            "Collecting statsmodels>=0.11\n",
            "  Downloading statsmodels-0.13.2-cp37-cp37m-manylinux_2_17_x86_64.manylinux2014_x86_64.whl (9.8 MB)\n",
            "\u001b[K     |████████████████████████████████| 9.8 MB 43.5 MB/s \n",
            "\u001b[?25hRequirement already satisfied: numpy>=1.17 in /usr/local/lib/python3.7/dist-packages (from arch) (1.21.6)\n",
            "Requirement already satisfied: pandas>=1.0 in /usr/local/lib/python3.7/dist-packages (from arch) (1.3.5)\n",
            "Requirement already satisfied: python-dateutil>=2.7.3 in /usr/local/lib/python3.7/dist-packages (from pandas>=1.0->arch) (2.8.2)\n",
            "Requirement already satisfied: pytz>=2017.3 in /usr/local/lib/python3.7/dist-packages (from pandas>=1.0->arch) (2022.1)\n",
            "Requirement already satisfied: six>=1.5 in /usr/local/lib/python3.7/dist-packages (from python-dateutil>=2.7.3->pandas>=1.0->arch) (1.15.0)\n",
            "Requirement already satisfied: patsy>=0.5.2 in /usr/local/lib/python3.7/dist-packages (from statsmodels>=0.11->arch) (0.5.2)\n",
            "Requirement already satisfied: packaging>=21.3 in /usr/local/lib/python3.7/dist-packages (from statsmodels>=0.11->arch) (21.3)\n",
            "Requirement already satisfied: pyparsing!=3.0.5,>=2.0.2 in /usr/local/lib/python3.7/dist-packages (from packaging>=21.3->statsmodels>=0.11->arch) (3.0.9)\n",
            "Installing collected packages: statsmodels, property-cached, arch\n",
            "  Attempting uninstall: statsmodels\n",
            "    Found existing installation: statsmodels 0.10.2\n",
            "    Uninstalling statsmodels-0.10.2:\n",
            "      Successfully uninstalled statsmodels-0.10.2\n",
            "Successfully installed arch-5.3.1 property-cached-1.6.4 statsmodels-0.13.2\n",
            "Looking in indexes: https://pypi.org/simple, https://us-python.pkg.dev/colab-wheels/public/simple/\n",
            "Requirement already satisfied: statsmodels in /usr/local/lib/python3.7/dist-packages (0.13.2)\n",
            "Requirement already satisfied: numpy>=1.17 in /usr/local/lib/python3.7/dist-packages (from statsmodels) (1.21.6)\n",
            "Requirement already satisfied: pandas>=0.25 in /usr/local/lib/python3.7/dist-packages (from statsmodels) (1.3.5)\n",
            "Requirement already satisfied: packaging>=21.3 in /usr/local/lib/python3.7/dist-packages (from statsmodels) (21.3)\n",
            "Requirement already satisfied: patsy>=0.5.2 in /usr/local/lib/python3.7/dist-packages (from statsmodels) (0.5.2)\n",
            "Requirement already satisfied: scipy>=1.3 in /usr/local/lib/python3.7/dist-packages (from statsmodels) (1.4.1)\n",
            "Requirement already satisfied: pyparsing!=3.0.5,>=2.0.2 in /usr/local/lib/python3.7/dist-packages (from packaging>=21.3->statsmodels) (3.0.9)\n",
            "Requirement already satisfied: python-dateutil>=2.7.3 in /usr/local/lib/python3.7/dist-packages (from pandas>=0.25->statsmodels) (2.8.2)\n",
            "Requirement already satisfied: pytz>=2017.3 in /usr/local/lib/python3.7/dist-packages (from pandas>=0.25->statsmodels) (2022.1)\n",
            "Requirement already satisfied: six in /usr/local/lib/python3.7/dist-packages (from patsy>=0.5.2->statsmodels) (1.15.0)\n"
          ]
        }
      ],
      "source": [
        "!pip install arch\n",
        "!pip install statsmodels\n",
        "import numpy as np\n",
        "import pandas as pd\n",
        "import matplotlib.pyplot as plt\n",
        "import statsmodels.graphics.tsaplots as sgt\n",
        "import arch\n",
        "from statsmodels.tsa.stattools import adfuller\n",
        "from statsmodels.tsa.statespace.sarimax import SARIMAX\n",
        "import io\n",
        "from scipy.stats import norm, t\n",
        "from statsmodels.formula.api import ols"
      ]
    },
    {
      "cell_type": "markdown",
      "source": [
        "**Problem 1** A coding exercise for the small sample properties of OLS.\\\n",
        "1) Generate 100 independent samples, each containing 100 observations, for a variable $y_t$ distributed as $y_t \\mid y_{t-1} \\sim N(y_{t-1},1)$ where 1. you might want to fix the seed of your random number generator, 2. do NOT fix $y_0$ to the same value in all the samples, otherwise the samples will not be independent, 3. unconditional expectation is not defined, thus $y_0$ can be any real number\\\n",
        "The procedure will be, generate $y_0$ from a very large domain of uniform distribution, then set that value as the mean value, and run normal simulation to find $y_1$, and do the same for $y_2, y_3$, and etc.\\\n",
        "2) In each of the 100 samples run the OLS estimation, $(X^{'}X)^{-1}X^{'}Y$, of the model\\\n",
        "$y_t = \\alpha + \\rho y_{t-1} + \\epsilon_t$\n",
        "and compute the t-test of the null hypothesis $\\alpha = 0$ at the 5 \\% confidence level. Use loop functions.\\\n",
        "3) In how many samples is the hypothesis rejected? Is this surprising?\n"
      ],
      "metadata": {
        "id": "qyoXR4G-VCqy"
      }
    },
    {
      "cell_type": "code",
      "source": [
        "# Random sampling (seed:1)\n",
        "np.random.seed(1)\n",
        "y_0=np.random.uniform(-10000,10000,100)\n",
        "sample={}\n",
        "for i in range(100):\n",
        "  temp=[]\n",
        "  temp.append(y_0[i])\n",
        "  for j in range(99):\n",
        "    temp.append(np.random.normal(temp[-1],1,1)[0])\n",
        "  sample[i]=temp"
      ],
      "metadata": {
        "id": "8m64GcQVW1KG"
      },
      "execution_count": 3,
      "outputs": []
    },
    {
      "cell_type": "code",
      "source": [
        "# Fit OLS\n",
        "import scipy\n",
        "critical_value=scipy.stats.t.ppf(0.975, df=97)\n",
        "count=0\n",
        "for i in range(100):\n",
        "  y=sample[i]\n",
        "  y_t=np.array(y[1:]) #Exclude y0\n",
        "  y_t1=np.array(y[:-1]) #Exclude y99\n",
        "\n",
        "  df=pd.DataFrame({'y_t': y_t, 'y_t1': y_t1})\n",
        "  res=ols('y_t ~y_t1',data=df).fit()\n",
        "\n",
        "  # Hypothesis test for alpha ==> H_0: alpha=0, H_1: not H_0\n",
        "  t=(res.params[0]-0)/res.bse[0] #follows t(97)=standard normal\n",
        "  if t > critical_value:\n",
        "    count +=1\n",
        "print(count)"
      ],
      "metadata": {
        "colab": {
          "base_uri": "https://localhost:8080/"
        },
        "id": "bSiypnhBZYyn",
        "outputId": "ab8f160b-87bd-41c0-bc92-cf7a69aeddc8"
      },
      "execution_count": 4,
      "outputs": [
        {
          "output_type": "stream",
          "name": "stdout",
          "text": [
            "14\n"
          ]
        }
      ]
    },
    {
      "cell_type": "code",
      "source": [
        "# Among 100 samples, 10~15 samples turned out to be reject null hypothesis test for alpha\n",
        "# Why? ==> y_t is generated by y_{t-1} and error term without this information follows normal distribution N(0,1)\n",
        "# Alpha was not significant when considering DGP\n",
        "# Nevertheless, alpha must be considered"
      ],
      "metadata": {
        "id": "1hb1X130WcXl"
      },
      "execution_count": 5,
      "outputs": []
    },
    {
      "cell_type": "markdown",
      "source": [
        "**Problem 2** Suppose you have the data\\\n",
        "$x_1=1; x_2 =2; x_3=3/2$, $y_1=2; y_2=1; y_3=-8/3$ and two possible models.\\\n",
        "Model 0 given by\\\n",
        "$y_i=\\theta x_i + \\epsilon_i \\sim i.i.d.N(0,1/2), \\theta \\in \\mathbb{R}$\\\n",
        "Model 1 given by\\\n",
        "$y_i= \\phi x_i^2 + \\eta_i \\sim i.i.d.N(0,1/2), \\phi \\in \\mathbb{R}$\\\n",
        "where in both models errors and regressors are independent.\\\n",
        "1) Define the variable $m$ that takes value 0 if model 0 is true and value 1 if model 1 is true. Write down the likelihood $L(\\left\\{ y_i,x_i \\right\\}_{i=1}^3 \\mid \\theta, \\phi, m) = L(data \\mid \\theta, \\phi, m)$\\\n",
        "2) Suppose you have the flat (improper) prior $p(\\theta) = p(\\phi) =1$. Find the posteriors for both $p(\\theta \\mid data, m=0)$. Plot the posterior distributions in one graph.\\\n",
        "3) Suppose you assign prior probability 0.5 to each of the models. Which model is more likely to be the data generating process (DGP) of the observed data?\\\n",
        "4) Find (and plot) the posteriors $p(\\theta \\mid data)$ and $p(\\phi \\mid data)$ - Both will be a linear combination of the posterior of each parameter."
      ],
      "metadata": {
        "id": "xuoJX85GZdkn"
      }
    },
    {
      "cell_type": "markdown",
      "source": [
        "1) Define the variable  m  that takes value 0 if model 0 is true and value 1 if model 1 is true. Write down the likelihood $L({yi,xi}3i=1∣θ,ϕ,m)=L(data∣θ,ϕ,m)$"
      ],
      "metadata": {
        "id": "TKnz82d3xQBq"
      }
    },
    {
      "cell_type": "code",
      "source": [
        "# 1)Define the varialbe m: value 0 if model 0 is true, value 1 elsewhere\n",
        "# Assumption of A1~A5N\n",
        "\n",
        "y=[2,1,-3/8]\n",
        "x=[1,2,3/2]\n",
        "x2=np.array(x) ** 2\n",
        "\n",
        "df=pd.DataFrame({'y':y, 'x':x, 'x2':x2})\n",
        "res1=ols('y~x', data=df).fit()\n",
        "res2=ols('y~x2', data=df).fit()\n",
        "\n",
        "# Obtain residual\n",
        "resid1=res1.resid\n",
        "resid2=res2.resid\n",
        "\n",
        "# Calculating likelihood function (LF)\n",
        "def likelihood1(theta):\n",
        "  likelihood=np.power((np.sqrt(np.pi)),-3/2)*np.exp(-((29/4*theta**2)+109/9))\n",
        "  return likelihood\n",
        "\n",
        "def likelihood2(theta):\n",
        "  likelihood=np.power((np.sqrt(np.pi)),-3/2)*np.exp(-((353/16*theta**2)+109/9))\n",
        "  return likelihood"
      ],
      "metadata": {
        "id": "WsW2S1msebP4"
      },
      "execution_count": 6,
      "outputs": []
    },
    {
      "cell_type": "markdown",
      "source": [
        "2) Suppose you have the flat (improper) prior  p(θ)=p(ϕ)=1 . Find the posteriors for both  p(θ∣data,m=0) . Plot the posterior distributions in one graph."
      ],
      "metadata": {
        "id": "f7uTo68QxBfF"
      }
    },
    {
      "cell_type": "code",
      "source": [
        "# Flat prior==> no information; 'Let the data speak for themselves' - distribution described by information\n",
        "# Laplace prior: prior=1\n",
        "# Jeffrey's prior: proor= I^(0.5) I is Fisher Information Matrix=(variance)^(-1)\n",
        "# If the data follows normal distribution Jeffrey's posterior: I^(1)=1/(sigma^2)=1/0.5=2 (in this question)\n",
        "\n",
        "# Posterior = likelihood * prior (evidence was omitted because of complex calculation)\n",
        "output1=[likelihood1(i) for i in np.linspace(-2,2,10000)]\n",
        "output2=[likelihood2(i) for i in np.linspace(-2,2,10000)]\n",
        "\n",
        "# How to calculate posterior without calculation of evidence(marginal pdf)\n",
        "# ==> Scaling sum of output to be 1 (because posterior is propotional to prior*likelihood)\n",
        "posterior1=output1/np.sum(output1)\n",
        "posterior2=output2/np.sum(output2)\n",
        "print(np.sum(posterior2))"
      ],
      "metadata": {
        "colab": {
          "base_uri": "https://localhost:8080/"
        },
        "id": "jp0NCaALf40I",
        "outputId": "3f9856f1-6bbb-4efc-dc96-fbd0d2581ae1"
      },
      "execution_count": 7,
      "outputs": [
        {
          "output_type": "stream",
          "name": "stdout",
          "text": [
            "0.9999999999999999\n"
          ]
        }
      ]
    },
    {
      "cell_type": "code",
      "source": [
        "#posterior\n",
        "plt.plot(np.linspace(-2,2,10000), posterior1, label='ols')\n",
        "plt.plot(np.linspace(-2,2,10000), posterior2, label='polynomial')"
      ],
      "metadata": {
        "colab": {
          "base_uri": "https://localhost:8080/",
          "height": 283
        },
        "id": "mrVh60umhSIf",
        "outputId": "9a934127-4a04-4fe7-a71a-8a62587c4dac"
      },
      "execution_count": 8,
      "outputs": [
        {
          "output_type": "execute_result",
          "data": {
            "text/plain": [
              "[<matplotlib.lines.Line2D at 0x7f05c0ef5c10>]"
            ]
          },
          "metadata": {},
          "execution_count": 8
        },
        {
          "output_type": "display_data",
          "data": {
            "text/plain": [
              "<Figure size 432x288 with 1 Axes>"
            ],
            "image/png": "[encoded data removed]"
          },
          "metadata": {
            "needs_background": "light"
          }
        }
      ]
    },
    {
      "cell_type": "markdown",
      "source": [
        "3) Suppose you assign prior probability 0.5 to each of the models. Which model is more likely to be the data generating process (DGP) of the observed data?"
      ],
      "metadata": {
        "id": "NWV58pmqw9qy"
      }
    },
    {
      "cell_type": "code",
      "source": [
        "# Bayes Factor\n",
        "# Evidence (Marginal pdf) = sum of output (if intergral interval divided more frequently then the sum will be more close to output)\n",
        "# Odds=p/1-1 (the odds of each model set to be same) \n",
        "BF=(np.sum(output1)/np.sum(output2))*(1/1)\n",
        "print(BF)"
      ],
      "metadata": {
        "colab": {
          "base_uri": "https://localhost:8080/"
        },
        "id": "IcAa-6iJhofX",
        "outputId": "4b5f33fb-6ea4-454c-9b8c-d6cc11143a9f"
      },
      "execution_count": 9,
      "outputs": [
        {
          "output_type": "stream",
          "name": "stdout",
          "text": [
            "1.744449325224354\n"
          ]
        }
      ]
    },
    {
      "cell_type": "code",
      "source": [
        "# Intuition: Bayes Facor give to be proportion of marginal pdf (evidence) of H_0, H_1\n",
        "# If odds of two models is same to be 1 (odds=1), it will be Likelihood Ratio Test\n",
        "# Therefore, hypothesis test for Bayes Factor is extended version of likelihood ratio test\n",
        "\n",
        "# 1<=BF <=3 : Weak\n",
        "# 3< BF <=12 : Positive\n",
        "# 12<BF<=150 : Strong\n",
        "# BF>150 : Decisive\n",
        "\n",
        "# The value are subjective (like p-value= 0.1, 0.05, 0.01)\n",
        "# Why compare the odds? We don't have information of poptulation, we only have sample data.\n"
      ],
      "metadata": {
        "id": "aUE67hhUzHGG"
      },
      "execution_count": 11,
      "outputs": []
    },
    {
      "cell_type": "code",
      "source": [
        "# How can we use this result? ===> we interprete the data by ratio of odds \n",
        "# p= odds/ (odds+1)\n",
        "\n",
        "model0_prob=BF/(BF+1)\n",
        "model1_prob=1-model0_prob\n",
        "print(model0_prob)\n",
        "print(model1_prob)\n",
        "\n",
        "# (1) Choose model_0/ (2) Overweigh 64% on model_0 and 36% on model_1\n",
        "# As data updataed, model_0 will be overweighted\n",
        "# Why? OLS is best when Gauss-Markov assumption A1~A5N accomplished"
      ],
      "metadata": {
        "colab": {
          "base_uri": "https://localhost:8080/"
        },
        "id": "GvWx7Dt6nIDX",
        "outputId": "1c87ea58-4b6d-4b14-f5a2-fb9ab46128c0"
      },
      "execution_count": 10,
      "outputs": [
        {
          "output_type": "stream",
          "name": "stdout",
          "text": [
            "0.635628178371174\n",
            "0.364371821628826\n"
          ]
        }
      ]
    },
    {
      "cell_type": "markdown",
      "source": [
        "4) Find (and plot) the posteriors  $p(θ∣data)$  and  $p(ϕ∣data)$ - Both will be a linear combination of the posterior of each parameter."
      ],
      "metadata": {
        "id": "72X8A9qcy2vH"
      }
    },
    {
      "cell_type": "code",
      "source": [
        "#4\n",
        "#Posterior\n",
        "plt.plot(posterior1, posterior2, label='posterior')\n",
        "plt.xlabel('posterior1')\n",
        "plt.ylabel('posterior2')\n",
        "plt.legend()"
      ],
      "metadata": {
        "colab": {
          "base_uri": "https://localhost:8080/",
          "height": 297
        },
        "id": "hY_9sOSSo7C4",
        "outputId": "7b5b2c9c-eb4a-4cd1-8a4b-fe7f70c6aa93"
      },
      "execution_count": 13,
      "outputs": [
        {
          "output_type": "execute_result",
          "data": {
            "text/plain": [
              "<matplotlib.legend.Legend at 0x7f05c09bf410>"
            ]
          },
          "metadata": {},
          "execution_count": 13
        },
        {
          "output_type": "display_data",
          "data": {
            "text/plain": [
              "<Figure size 432x288 with 1 Axes>"
            ],
            "image/png": "[encoded data removed]"
          },
          "metadata": {
            "needs_background": "light"
          }
        }
      ]
    }
  ]
}