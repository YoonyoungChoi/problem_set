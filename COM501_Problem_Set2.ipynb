{
  "nbformat": 4,
  "nbformat_minor": 0,
  "metadata": {
    "colab": {
      "name": "COM501_Problem Set2.ipynb",
      "provenance": [],
      "collapsed_sections": [],
      "authorship_tag": "ABX9TyNVlvlXxXnwgPg3NurM+PKa",
      "include_colab_link": true
    },
    "kernelspec": {
      "name": "python3",
      "display_name": "Python 3"
    },
    "language_info": {
      "name": "python"
    }
  },
  "cells": [
    {
      "cell_type": "markdown",
      "metadata": {
        "id": "view-in-github",
        "colab_type": "text"
      },
      "source": [
        "<a href=\"https://colab.research.google.com/github/YoonyoungChoi/problem_set/blob/main/COM501_Problem_Set2.ipynb\" target=\"_parent\"><img src=\"https://colab.research.google.com/assets/colab-badge.svg\" alt=\"Open In Colab\"/></a>"
      ]
    },
    {
      "cell_type": "code",
      "execution_count": null,
      "metadata": {
        "id": "l6Wfmh_ZOxYS"
      },
      "outputs": [],
      "source": [
        "# Google colab adress: https://colab.research.google.com/drive/1iZ4d3Oub2BjpL435tFUI4Zi2FR8ndseQ#scrollTo=l6Wfmh_ZOxYS\n",
        "# Github link: https://github.com/YoonyoungChoi/problem_set/blob/main/COM501_Problem_Set2.ipynb\n",
        "# Import packages \n",
        "\n",
        "import numpy as np\n",
        "import matplotlib.pyplot as plt\n",
        "%matplotlib inline"
      ]
    },
    {
      "cell_type": "markdown",
      "source": [
        "**Problem 1** The Simpson quadrature rule approximates a definite intergral as follows:\n",
        "$I= \\int_a^bf(x)dx \\approx \\frac{b-a}{6}[f(a)+4f(\\frac{a+b}{2}+f(b))]=\\hat{I}^S$\\\n",
        "1) Suppose the function $f$ satisfies all necessaries mathematical conditions, and the inverval $[a,b]$ is split up into $N$ subintervals with width $\\delta =\\frac{b-a}{N}$. The integral $I$ is the approximated as the sum of the Simpson approximations in each subinterval. Show that the error of the new approximation has order $O(N^{-4}$)\\\n",
        "2) You are given to implement a set of computer code that computes the Simpson rule for matching ReLU(6), based on $N$ subintervals where $N \\in [0,100]$\\\n",
        "3) Roughly speaking, what is the rate of convergence of the absolute error of your Simpsons quadrature approximation? In other words, give a rough estimate of the value of $r$ such that $\\left| \\hat{I}^S_{N}-I \\right| = O(N^{-r})$\\\n",
        "where $\\hat{I}^S$ is the Simpson quadrature approximation based on $N$ subintervals"
      ],
      "metadata": {
        "id": "Sh20-mJkVTE_"
      }
    },
    {
      "cell_type": "code",
      "source": [
        "#Basic ReLU\n",
        "x=np.linspace(-10, 15, 1000)\n",
        "y=np.maximum(0,x)\n",
        "\n",
        "plt.figure(figsize=(10,5))\n",
        "plt.plot(x,y)\n",
        "plt.legend(['ReLU'])\n",
        "plt.show\n"
      ],
      "metadata": {
        "id": "niiA9FPjQCdP",
        "colab": {
          "base_uri": "https://localhost:8080/",
          "height": 338
        },
        "outputId": "d70844d1-720b-442a-c554-49e96774f9d1"
      },
      "execution_count": null,
      "outputs": [
        {
          "output_type": "execute_result",
          "data": {
            "text/plain": [
              "<function matplotlib.pyplot.show>"
            ]
          },
          "metadata": {},
          "execution_count": 9
        },
        {
          "output_type": "display_data",
          "data": {
            "text/plain": [
              "<Figure size 720x360 with 1 Axes>"
            ],
            "image/png": "[encoded data removed]"
          },
          "metadata": {
            "needs_background": "light"
          }
        }
      ]
    },
    {
      "cell_type": "code",
      "source": [
        "#ReLU(6)\n",
        "x=np.linspace(-10, 15, 1000)\n",
        "y=np.minimum(np.maximum(0,x),6)\n",
        "plt.figure(figsize=(10,5))\n",
        "plt.plot(x,y)\n",
        "plt.legend(['ReLU(6)'])\n",
        "plt.show()"
      ],
      "metadata": {
        "id": "G9ZWc8gNVR4c",
        "colab": {
          "base_uri": "https://localhost:8080/",
          "height": 320
        },
        "outputId": "ac3cb2df-b7ce-4645-9de2-6174c7820623"
      },
      "execution_count": null,
      "outputs": [
        {
          "output_type": "display_data",
          "data": {
            "text/plain": [
              "<Figure size 720x360 with 1 Axes>"
            ],
            "image/png": "[encoded data removed]"
          },
          "metadata": {
            "needs_background": "light"
          }
        }
      ]
    },
    {
      "cell_type": "code",
      "source": [
        "# Define ReLU(6) function\n",
        "def relu6(x):\n",
        "  return min(max(0,x),6)\n",
        "\n",
        "# Quadratue implementaion\n",
        "a=0.00001\n",
        "b=46\n",
        "\n",
        "# Simpson's rule\n",
        "def simpson(n):\n",
        "  # Define the x and delta\n",
        "  x=np.linspace(start=a, stop=b, num=2*n+1)\n",
        "  delta=(b-a)/n\n",
        "\n",
        "  # Apply ReLU(6) function\n",
        "  relu=np.vectorize(relu6)(x)\n",
        "\n",
        "  # Evaluation of the Simpson rule\n",
        "  s=delta*np.sum(relu[0:-1:2]+4*relu[1::2]+relu[2::2])/6\n",
        "\n",
        "  return np.sum(s)\n",
        "\n",
        "n_max=100\n",
        "result=[]\n",
        "for i in range(1, n_max+1):\n",
        "  result.append(simpson(i))"
      ],
      "metadata": {
        "id": "OFEsVUxGVSKk"
      },
      "execution_count": null,
      "outputs": []
    },
    {
      "cell_type": "code",
      "source": [
        "plt.plot([i for i in range(1,n_max+1)],result)\n",
        "plt.xlabel(\"N\")\n",
        "plt.ylabel(\"approximation\")\n",
        "plt.show()"
      ],
      "metadata": {
        "id": "g3Cgh4IXVSYD",
        "colab": {
          "base_uri": "https://localhost:8080/",
          "height": 279
        },
        "outputId": "d11d0c86-6419-4a75-b143-2dca0238d8e4"
      },
      "execution_count": null,
      "outputs": [
        {
          "output_type": "display_data",
          "data": {
            "text/plain": [
              "<Figure size 432x288 with 1 Axes>"
            ],
            "image/png": "[encoded data removed]"
          },
          "metadata": {
            "needs_background": "light"
          }
        }
      ]
    },
    {
      "cell_type": "code",
      "source": [
        "exact_value=258\n",
        "err = [abs(item-exact_value)for item in result]"
      ],
      "metadata": {
        "id": "0pVfluNRVSgl"
      },
      "execution_count": null,
      "outputs": []
    },
    {
      "cell_type": "code",
      "source": [
        "plt.plot([i for i in range(1, n_max+1)],err)\n",
        "plt.xlabel(\"N\")\n",
        "plt.ylabel(\"ae\")\n",
        "plt.show()"
      ],
      "metadata": {
        "id": "2BUbgXVnUBsU",
        "colab": {
          "base_uri": "https://localhost:8080/",
          "height": 279
        },
        "outputId": "8d10b49d-7aef-42de-b870-575f483756a8"
      },
      "execution_count": null,
      "outputs": [
        {
          "output_type": "display_data",
          "data": {
            "text/plain": [
              "<Figure size 432x288 with 1 Axes>"
            ],
            "image/png": "[encoded data removed]"
          },
          "metadata": {
            "needs_background": "light"
          }
        }
      ]
    },
    {
      "cell_type": "code",
      "source": [
        "fig=plt.figure()\n",
        "ax=plt.gca()\n",
        "ax.scatter(range(1,len(result)+1),err)\n",
        "plt.xscale(\"log\")\n",
        "plt.yscale(\"log\")\n",
        "plt.show()"
      ],
      "metadata": {
        "colab": {
          "base_uri": "https://localhost:8080/",
          "height": 269
        },
        "id": "qCabyMhZn1CH",
        "outputId": "17d61302-f69a-477e-9bea-d81e5f8628a7"
      },
      "execution_count": null,
      "outputs": [
        {
          "output_type": "display_data",
          "data": {
            "text/plain": [
              "<Figure size 432x288 with 1 Axes>"
            ],
            "image/png": "[encoded data removed]"
          },
          "metadata": {
            "needs_background": "light"
          }
        }
      ]
    },
    {
      "cell_type": "markdown",
      "source": [
        "**Problem 2** Consider the following $M-$dimensional integral $I^M=\\int_a^b \\dots \\int_a^b f(x_1, \\dots, x_M)dx_1 \\dots dx_M$\\\n",
        "We can compute an approximation of $I^M$ using the left-point quadrature rule for each inner intergral. In this sense, suppose that we divide up the integral $[a,b]$ into $N$ subintervals, and set $\\Delta = \\frac{b-a}{N}$. Define the $N-$dimensional left-point quadrature approximation as $\\hat{I^N_{M}}=\\sum\\limits_{n_1=0}^{N-1} \\ldots \\sum\\limits_{n_1=0}^{N-1}f(a+n_1\\Delta, \\ldots, a+n_M\\Delta)\\Delta^M$\\\n",
        "In this question, you can refer Fubini's theorem only as a reference point. You do not need the theorem for proof.\\\n",
        "1) Demonstrate that the absolute error of the $M-$dimensional left-point quadrature rule is of order $O(M \\times N^{-1})$\\\n",
        "2) Discuss the number of basic operations required to compute $I_N^M$ is of order $O(N^M)$. For simplicity, assume that one evaluation of $f(a+n_1\\Delta, \\ldots, a+n_M\\Delta)\\Delta^M$ is one basic operation. You do not have to provide formal proof.\\\n",
        "3) We can define the computational efficiency of the $M-$dimensional left-point quadrature as the inverse of the product between its error and the computational budget it requires. Plot the order of the computational efficiency of the $M-$dimensional left-point quadrature approximation as a function of $M$ for $M \\in [1,10]$ and $N=100$\\\n",
        "4) Do you believe that the $M-$dimensional left-point quadrature rule is the most computationally efficient approximation of the $M-$dimensional integral $I^M$? Argue why or why not."
      ],
      "metadata": {
        "id": "9iV25Okgfhks"
      }
    },
    {
      "cell_type": "markdown",
      "source": [
        "Computational effort\\\n",
        "$\\hat{I_N}=\\sum \\limits_{n=0}^{N-1} \\Delta f(a+n\\Delta)$\n",
        "1. Compute $a+n\\Delta$ for $n=0, \\cdots, N-1$\n",
        "2. Evaluate $f(a+n\\Delta)$ for $n=0, \\cdots, N-1$\n",
        "3. Multiply $\\Delta$ with $f(a+n\\Delta)$ over $n=0, \\cdots, N-1$\n",
        "4. Sum up $f(a+n\\Delta)$ over $n=0, \\cdots, N-1$\\\n",
        "Computational Effort(Left-point):\\\n",
        "$CE(\\hat{I_N})=O(N)$\\\n",
        "MSE:\\\n",
        "$MSE(\\hat{I_N})=VAR(\\hat{I_N})+Bias^2(\\hat{I_N})=0+(\\hat{I_N})^2=O(N^{-2})$\n",
        "Computational efficiency:\\\n",
        "$\\varepsilon(\\hat{I_N})=\\frac{1}{CE(\\hat{I_N})\\cdot MSE(\\hat{I_N})}=\\frac{1}{O(N) \\cdot O(N^{-2})}=O(N)$\\\n",
        "Multidimensional quadrature\\\n",
        "$\\varepsilon(\\hat{I_N}^M)=\\frac{1}{CE(\\hat{I_N}^M)\\cdot MSE(\\hat{I_N}^M)}=\\frac{1}{O(N^M) \\cdot O(M^2 N^{-2})}=O(M^{-2}N^{2-M})$\n",
        "\n"
      ],
      "metadata": {
        "id": "d_DaRE5H1EqZ"
      }
    },
    {
      "cell_type": "code",
      "source": [
        "import numpy as np\n",
        "import time\n",
        "from itertools import repeat, product\n",
        "\n",
        "def func2(x):\n",
        "  return np.sum(x)\n",
        "\n",
        "def M_integrate2(a, b, M, n=100):\n",
        "  delta = (b-a)/n\n",
        "  pair = list(range(n))\n",
        "  pair = list(repeat(pair, M))\n",
        "  pair = list(product(*pair))\n",
        "\n",
        "  result = 0\n",
        "  for i in pair:\n",
        "    x = list(np.zeros(M))\n",
        "    for k in range(len(i)):\n",
        "      x[k]= a+delta*i[k]\n",
        "    result= result +func2(x)*(delta**M)\n",
        "  return result\n",
        "\n",
        "error = []\n",
        "t = []\n",
        "ce = []\n",
        "true_value = [1.5, 9, 40.5, 162, 1215/2, 2187, 15309/2, 26244, 177147/2, 295245]\n",
        "\n",
        "for j in range(1,11):\n",
        "  abs_error = 0\n",
        "  start = time.time()\n",
        "  approx = M_integrate2(-1,2,j,100)\n",
        "  last=time.time()\n",
        "  print(\"time:\", last-start)\n",
        "  abs_error = abs(true_value[j-1]-approx)\n",
        "  error.append(abs_error)\n",
        "  ce.append(1/((abs_error**2)*(last-start)))\n",
        "\n",
        "m=list(range(1,11))\n",
        "plt.plot(m, ce, marker='o')\n",
        "plt.xlabel('M')\n",
        "plt.ylabel(\"computational efficiency\")\n",
        "plt.title(\"computational efficiency vs M\")\n",
        "plt.show()"
      ],
      "metadata": {
        "colab": {
          "base_uri": "https://localhost:8080/"
        },
        "id": "V6quA1tT1Bt7",
        "outputId": "3346ef8a-9ef7-4c6c-d78b-68d09c19d591"
      },
      "execution_count": null,
      "outputs": [
        {
          "output_type": "stream",
          "name": "stdout",
          "text": [
            "time: 0.0011487007141113281\n",
            "time: 0.10358285903930664\n",
            "time: 10.8492112159729\n"
          ]
        }
      ]
    },
    {
      "cell_type": "code",
      "source": [
        "m=list(range(1,5))\n",
        "plt.plot(m, ce, marker='o')\n",
        "plt.xlabel('M')\n",
        "plt.ylabel('computational efficiency')\n",
        "plt.title('computational efficiency vs M')\n",
        "plt.show()"
      ],
      "metadata": {
        "colab": {
          "base_uri": "https://localhost:8080/",
          "height": 248
        },
        "id": "7Fffgnru9q1K",
        "outputId": "71ce837c-e0c4-4ee7-c5e2-14f2ab68cbac"
      },
      "execution_count": null,
      "outputs": [
        {
          "output_type": "error",
          "ename": "NameError",
          "evalue": "ignored",
          "traceback": [
            "\u001b[0;31m---------------------------------------------------------------------------\u001b[0m",
            "\u001b[0;31mNameError\u001b[0m                                 Traceback (most recent call last)",
            "\u001b[0;32m<ipython-input-3-77c9eac0a8f9>\u001b[0m in \u001b[0;36m<module>\u001b[0;34m()\u001b[0m\n\u001b[1;32m      1\u001b[0m \u001b[0mm\u001b[0m\u001b[0;34m=\u001b[0m\u001b[0mlist\u001b[0m\u001b[0;34m(\u001b[0m\u001b[0mrange\u001b[0m\u001b[0;34m(\u001b[0m\u001b[0;36m1\u001b[0m\u001b[0;34m,\u001b[0m\u001b[0;36m5\u001b[0m\u001b[0;34m)\u001b[0m\u001b[0;34m)\u001b[0m\u001b[0;34m\u001b[0m\u001b[0;34m\u001b[0m\u001b[0m\n\u001b[0;32m----> 2\u001b[0;31m \u001b[0mplt\u001b[0m\u001b[0;34m.\u001b[0m\u001b[0mplot\u001b[0m\u001b[0;34m(\u001b[0m\u001b[0mm\u001b[0m\u001b[0;34m,\u001b[0m \u001b[0mce\u001b[0m\u001b[0;34m,\u001b[0m \u001b[0mmarker\u001b[0m\u001b[0;34m=\u001b[0m\u001b[0;34m'o'\u001b[0m\u001b[0;34m)\u001b[0m\u001b[0;34m\u001b[0m\u001b[0;34m\u001b[0m\u001b[0m\n\u001b[0m\u001b[1;32m      3\u001b[0m \u001b[0mplt\u001b[0m\u001b[0;34m.\u001b[0m\u001b[0mxlabel\u001b[0m\u001b[0;34m(\u001b[0m\u001b[0;34m'M'\u001b[0m\u001b[0;34m)\u001b[0m\u001b[0;34m\u001b[0m\u001b[0;34m\u001b[0m\u001b[0m\n\u001b[1;32m      4\u001b[0m \u001b[0mplt\u001b[0m\u001b[0;34m.\u001b[0m\u001b[0mylabel\u001b[0m\u001b[0;34m(\u001b[0m\u001b[0;34m'computational efficiency'\u001b[0m\u001b[0;34m)\u001b[0m\u001b[0;34m\u001b[0m\u001b[0;34m\u001b[0m\u001b[0m\n\u001b[1;32m      5\u001b[0m \u001b[0mplt\u001b[0m\u001b[0;34m.\u001b[0m\u001b[0mtitle\u001b[0m\u001b[0;34m(\u001b[0m\u001b[0;34m'computational efficiency vs M'\u001b[0m\u001b[0;34m)\u001b[0m\u001b[0;34m\u001b[0m\u001b[0;34m\u001b[0m\u001b[0m\n",
            "\u001b[0;31mNameError\u001b[0m: name 'ce' is not defined"
          ]
        }
      ]
    }
  ]
}